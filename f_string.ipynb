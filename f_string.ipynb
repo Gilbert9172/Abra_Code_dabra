{
  "nbformat": 4,
  "nbformat_minor": 0,
  "metadata": {
    "colab": {
      "name": "f-string.ipynb",
      "provenance": [],
      "collapsed_sections": [
        "7WLncn_AOpV-"
      ],
      "authorship_tag": "ABX9TyMHJNWPjMgC0oJ1zqYxPWIz",
      "include_colab_link": true
    },
    "kernelspec": {
      "name": "python3",
      "display_name": "Python 3"
    },
    "language_info": {
      "name": "python"
    }
  },
  "cells": [
    {
      "cell_type": "markdown",
      "metadata": {
        "id": "view-in-github",
        "colab_type": "text"
      },
      "source": [
        "<a href=\"https://colab.research.google.com/github/Gilbert9172/Gil_Coding/blob/main/f_string.ipynb\" target=\"_parent\"><img src=\"https://colab.research.google.com/assets/colab-badge.svg\" alt=\"Open In Colab\"/></a>"
      ]
    },
    {
      "cell_type": "markdown",
      "metadata": {
        "id": "7WLncn_AOpV-"
      },
      "source": [
        "# ***f -string***\n",
        "- python 3.6이후로 사용가능 ( 가장 최신 )\n",
        "- 앞에 f 를 붙이고 {변수명} 형태로 작성\n",
        "\n",
        "  `f'문자열 {변수명} 문자열'`\n",
        "- 참고로 대문자 F 도 가능 ( 웬만하면 소문자 사용 )"
      ]
    },
    {
      "cell_type": "markdown",
      "metadata": {
        "id": "cpbzYUiOUPo5"
      },
      "source": [
        "기본 사용 예시"
      ]
    },
    {
      "cell_type": "code",
      "metadata": {
        "colab": {
          "base_uri": "https://localhost:8080/",
          "height": 35
        },
        "id": "TxJL9842NLCN",
        "outputId": "4ba4b83f-9bb9-40f5-e373-ef4ef0610411"
      },
      "source": [
        "name = \"gilbert\"\n",
        "age = 27\n",
        "where = \"seoul\"\n",
        "\n",
        "f'My name is {name}, and I am {age} years old, I was born in {where}'  "
      ],
      "execution_count": null,
      "outputs": [
        {
          "output_type": "execute_result",
          "data": {
            "application/vnd.google.colaboratory.intrinsic+json": {
              "type": "string"
            },
            "text/plain": [
              "'My name is gilbert, and I am 27 years old, I was born in seoul'"
            ]
          },
          "metadata": {
            "tags": []
          },
          "execution_count": 17
        }
      ]
    },
    {
      "cell_type": "markdown",
      "metadata": {
        "id": "-CUEN4-FUPX2"
      },
      "source": [
        "Dict 사용 예시"
      ]
    },
    {
      "cell_type": "code",
      "metadata": {
        "colab": {
          "base_uri": "https://localhost:8080/",
          "height": 35
        },
        "id": "34VQCWL7P2qp",
        "outputId": "d3943423-8b5d-48ba-928c-94a84a216347"
      },
      "source": [
        "A = {'name':'gilbert','age':27,'where':'seoul'}\n",
        "\n",
        "f'My name is {A[\"name\"]}, and I am {A[\"age\"]} years old, I was born in {A[\"where\"]}'"
      ],
      "execution_count": null,
      "outputs": [
        {
          "output_type": "execute_result",
          "data": {
            "application/vnd.google.colaboratory.intrinsic+json": {
              "type": "string"
            },
            "text/plain": [
              "'My name is gilbert, and I am 27 years old, I was born in seoul'"
            ]
          },
          "metadata": {
            "tags": []
          },
          "execution_count": 16
        }
      ]
    },
    {
      "cell_type": "markdown",
      "metadata": {
        "id": "fAy96TaLUY2n"
      },
      "source": [
        "list 사용 예시"
      ]
    },
    {
      "cell_type": "code",
      "metadata": {
        "colab": {
          "base_uri": "https://localhost:8080/",
          "height": 35
        },
        "id": "LUj0yd3bR0ZV",
        "outputId": "633bd3a8-aa26-482e-fce9-90275482b31d"
      },
      "source": [
        "g = [1000,2000,3000]\n",
        "\n",
        "f'예시 : {g[0]}, {g[1]}, {g[2]}'"
      ],
      "execution_count": null,
      "outputs": [
        {
          "output_type": "execute_result",
          "data": {
            "application/vnd.google.colaboratory.intrinsic+json": {
              "type": "string"
            },
            "text/plain": [
              "'예시 : 1000, 2000, 3000'"
            ]
          },
          "metadata": {
            "tags": []
          },
          "execution_count": 19
        }
      ]
    },
    {
      "cell_type": "markdown",
      "metadata": {
        "id": "-eXkt60-Ux1V"
      },
      "source": [
        "수식 사용 예시"
      ]
    },
    {
      "cell_type": "code",
      "metadata": {
        "colab": {
          "base_uri": "https://localhost:8080/",
          "height": 35
        },
        "id": "1be6_bm_Usgx",
        "outputId": "f6d0f6e6-a4cf-4d2d-fec8-fefed07b08c4"
      },
      "source": [
        "x = 3\n",
        "y = 2\n",
        "\n",
        "f'x + y = {x+y} , x - y = {x-y}'"
      ],
      "execution_count": null,
      "outputs": [
        {
          "output_type": "execute_result",
          "data": {
            "application/vnd.google.colaboratory.intrinsic+json": {
              "type": "string"
            },
            "text/plain": [
              "'x + y = 5 , x - y = 1'"
            ]
          },
          "metadata": {
            "tags": []
          },
          "execution_count": 25
        }
      ]
    },
    {
      "cell_type": "markdown",
      "metadata": {
        "id": "f5oDeJkUXdaW"
      },
      "source": [
        "# 예제"
      ]
    },
    {
      "cell_type": "code",
      "metadata": {
        "colab": {
          "base_uri": "https://localhost:8080/"
        },
        "id": "plDoIyOkVUxh",
        "outputId": "676715c4-4634-438a-d090-06b349ac2a7a"
      },
      "source": [
        "gil = [2,6,12,31,21]\n",
        "\n",
        "bert = []\n",
        "\n",
        "for i in gil:\n",
        "  bert.append(f'{i+10}')\n",
        "\n",
        "bert"
      ],
      "execution_count": null,
      "outputs": [
        {
          "output_type": "execute_result",
          "data": {
            "text/plain": [
              "['12', '16', '22', '41', '31']"
            ]
          },
          "metadata": {
            "tags": []
          },
          "execution_count": 60
        }
      ]
    },
    {
      "cell_type": "code",
      "metadata": {
        "colab": {
          "base_uri": "https://localhost:8080/"
        },
        "id": "J7zMk8MhWuoI",
        "outputId": "daaef124-00dd-4378-81db-50f15ca2a524"
      },
      "source": [
        "# list str -> int\n",
        "# map 함수 응용\n",
        "\n",
        "bert1 = list(map(int,bert))\n",
        "bert1"
      ],
      "execution_count": null,
      "outputs": [
        {
          "output_type": "execute_result",
          "data": {
            "text/plain": [
              "[12, 16, 22, 41, 31]"
            ]
          },
          "metadata": {
            "tags": []
          },
          "execution_count": 62
        }
      ]
    },
    {
      "cell_type": "code",
      "metadata": {
        "colab": {
          "base_uri": "https://localhost:8080/"
        },
        "id": "KFczFtVDXBJl",
        "outputId": "d4568721-9cef-4d63-fe56-c391a0e22eb5"
      },
      "source": [
        "# list str -> float\n",
        "# for 반목문 응용\n",
        "\n",
        "bert2 = list(float(i) for i in bert)\n",
        "bert2"
      ],
      "execution_count": null,
      "outputs": [
        {
          "output_type": "execute_result",
          "data": {
            "text/plain": [
              "[12.0, 16.0, 22.0, 41.0, 31.0]"
            ]
          },
          "metadata": {
            "tags": []
          },
          "execution_count": 63
        }
      ]
    }
  ]
}
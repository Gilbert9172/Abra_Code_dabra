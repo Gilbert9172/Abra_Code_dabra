{
  "nbformat": 4,
  "nbformat_minor": 0,
  "metadata": {
    "colab": {
      "name": "list_func",
      "provenance": [],
      "collapsed_sections": [],
      "authorship_tag": "ABX9TyNUY1bAhh2WbNcJ7iA0FHMU",
      "include_colab_link": true
    },
    "kernelspec": {
      "name": "python3",
      "display_name": "Python 3"
    },
    "language_info": {
      "name": "python"
    }
  },
  "cells": [
    {
      "cell_type": "markdown",
      "metadata": {
        "id": "view-in-github",
        "colab_type": "text"
      },
      "source": [
        "<a href=\"https://colab.research.google.com/github/Gilbert9172/Abra_Code_dabra/blob/main/list_func.ipynb\" target=\"_parent\"><img src=\"https://colab.research.google.com/assets/colab-badge.svg\" alt=\"Open In Colab\"/></a>"
      ]
    },
    {
      "cell_type": "code",
      "metadata": {
        "colab": {
          "base_uri": "https://localhost:8080/"
        },
        "id": "51V0SErQb9Q1",
        "outputId": "22d03ad7-32a1-4d8f-b1e9-e872bbf04cb8"
      },
      "source": [
        "# append : 리스트에 요소 추가\n",
        "gil = []\n",
        "\n",
        "gil.append(1)\n",
        "print(gil)"
      ],
      "execution_count": null,
      "outputs": [
        {
          "output_type": "stream",
          "text": [
            "[1]\n"
          ],
          "name": "stdout"
        }
      ]
    },
    {
      "cell_type": "code",
      "metadata": {
        "colab": {
          "base_uri": "https://localhost:8080/"
        },
        "id": "alNQ3YIvcJCE",
        "outputId": "bfb78fe4-8e33-4a7e-9f28-e680359f07f7"
      },
      "source": [
        "gil.append([2,3])\n",
        "print(gil)\n",
        "len(gil)"
      ],
      "execution_count": null,
      "outputs": [
        {
          "output_type": "stream",
          "text": [
            "[1, [2, 3]]\n"
          ],
          "name": "stdout"
        },
        {
          "output_type": "execute_result",
          "data": {
            "text/plain": [
              "2"
            ]
          },
          "metadata": {
            "tags": []
          },
          "execution_count": 11
        }
      ]
    },
    {
      "cell_type": "code",
      "metadata": {
        "colab": {
          "base_uri": "https://localhost:8080/"
        },
        "id": "yQplqymUcOXJ",
        "outputId": "fdfdc1ae-7598-4514-c790-bcc54bbe81ef"
      },
      "source": [
        "# extend : 리스트 끝에 다른 리스트를 연결하여 리스트를 확장함\n",
        "\n",
        "a = [1,2,3]\n",
        "a.extend([4,5])\n",
        "print(a)"
      ],
      "execution_count": null,
      "outputs": [
        {
          "output_type": "stream",
          "text": [
            "[1, 2, 3, 4, 5]\n"
          ],
          "name": "stdout"
        }
      ]
    },
    {
      "cell_type": "code",
      "metadata": {
        "colab": {
          "base_uri": "https://localhost:8080/"
        },
        "id": "L9jCZtdPe3JY",
        "outputId": "7546fd17-6252-427a-a4df-6589fc21ea0f"
      },
      "source": [
        "# insert : 특정 인덱스에 요소 하나를 추가함\n",
        "\n",
        "b = [1,2,3]\n",
        "b.insert(3,4)\n",
        "print(b)"
      ],
      "execution_count": null,
      "outputs": [
        {
          "output_type": "stream",
          "text": [
            "[1, 2, 3, 4]\n"
          ],
          "name": "stdout"
        }
      ]
    },
    {
      "cell_type": "code",
      "metadata": {
        "colab": {
          "base_uri": "https://localhost:8080/"
        },
        "id": "g1DpplTOgf-p",
        "outputId": "3ef388b9-35b6-4de1-d47a-081d789e517c"
      },
      "source": [
        "x = [1,2,3]\n",
        "x[len(x):] = [4]\n",
        "print(x)"
      ],
      "execution_count": null,
      "outputs": [
        {
          "output_type": "stream",
          "text": [
            "[1, 2, 3, 4]\n"
          ],
          "name": "stdout"
        }
      ]
    },
    {
      "cell_type": "code",
      "metadata": {
        "colab": {
          "base_uri": "https://localhost:8080/"
        },
        "id": "2MH5h3rtfI0H",
        "outputId": "d2ab423d-f17a-4137-f487-86afdcd566c2"
      },
      "source": [
        "# pop : 마지막요소 또는 특정 인덱스의 요소 삭제하기\n",
        "# del도 가능\n",
        "\n",
        "c = [1,2,3,4,5]\n",
        "c.pop()\n",
        "print(c)\n",
        "print(c.pop(1))\n",
        "print(c)"
      ],
      "execution_count": null,
      "outputs": [
        {
          "output_type": "stream",
          "text": [
            "[1, 2, 3, 4]\n",
            "2\n",
            "[1, 3, 4]\n"
          ],
          "name": "stdout"
        }
      ]
    },
    {
      "cell_type": "code",
      "metadata": {
        "colab": {
          "base_uri": "https://localhost:8080/"
        },
        "id": "gRDB8dwofTqZ",
        "outputId": "ff914833-4434-4b31-eece-4b17c4437427"
      },
      "source": [
        "# remove L 리스트에서 특정값을 찾아서 삭제함\n",
        "\n",
        "c = [1,2,3,4,5]\n",
        "c.remove(4)\n",
        "print(c)"
      ],
      "execution_count": null,
      "outputs": [
        {
          "output_type": "stream",
          "text": [
            "[1, 2, 3, 5]\n"
          ],
          "name": "stdout"
        }
      ]
    },
    {
      "cell_type": "code",
      "metadata": {
        "id": "UFY9WFI6f21M"
      },
      "source": [
        "# sort(reverse = False) : 리스트의 요소를 작은 순서로 정렬 (오름차순)\n",
        "# sort(reverse = Ture) : 리스트의 요소를 큰 순서로 정렬 (내림차순)"
      ],
      "execution_count": null,
      "outputs": []
    }
  ]
}